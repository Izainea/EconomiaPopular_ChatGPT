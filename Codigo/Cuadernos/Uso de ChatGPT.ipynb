{
 "cells": [
  {
   "attachments": {},
   "cell_type": "markdown",
   "metadata": {},
   "source": [
    "<div style=padding: 30px;\n",
    "    text-align: center; class='row'>\n",
    "<div style=\"float:left;width: 15%;\" class='column'><a href=\"https://www.colombiacompra.gov.co\"><img alt=\"Logo Colombia Compra Eficiente\" id=\"logocce\" src=\"https://www.colombiacompra.gov.co/sites/cce_public/files/Images/logocce.png\" style=\"height: 45px;\"></a></div>\n",
    "<div style=\"float:left;width: 70%;\" class='column'><h1 text-align: center>Revisión de contratos con OPENAI</h1></div>\n",
    "<div style=\"float:left;width: 15%;\" class='column'><a href=\"https://www.dnp.gov.co/\" target=\"_blank\"><img class=\"float-right\" id=\"logodnp\" src=\"https://www.dnp.gov.co/img/logoNuevo.jpg\" style=\"width: 200px;\"></a></div></di"
   ]
  },
  {
   "cell_type": "code",
   "execution_count": 1,
   "metadata": {},
   "outputs": [],
   "source": [
    "### Librerias de consulta\n",
    "\n",
    "import os\n",
    "import pandas as pd\n",
    "import numpy as np\n",
    "import matplotlib.pyplot as plt\n",
    "import seaborn as sns\n",
    "\n",
    "import openai\n",
    "import json\n",
    "from dotenv import load_dotenv\n"
   ]
  },
  {
   "cell_type": "code",
   "execution_count": 2,
   "metadata": {},
   "outputs": [],
   "source": [
    "### Token de OpenAI\n",
    "\n",
    "OPEN_AI_TOKEN= os.getenv('token_openai')\n",
    "openai.api_key = OPEN_AI_TOKEN\n"
   ]
  },
  {
   "cell_type": "code",
   "execution_count": 3,
   "metadata": {},
   "outputs": [
    {
     "data": {
      "text/plain": [
       "(90693, 28)"
      ]
     },
     "execution_count": 3,
     "metadata": {},
     "output_type": "execute_result"
    }
   ],
   "source": [
    "## Cargamos los datos consultados\n",
    "Datos_Crudos='../../Datos/Datos Crudos/'\n",
    "#Consulta = pd.read_parquet(Datos_Crudos+'SECOP_I_II.parquet')\n",
    "Consulta = pd.read_excel(Datos_Crudos+'Resultado.xlsx')\n",
    "Consulta.shape"
   ]
  },
  {
   "cell_type": "code",
   "execution_count": 4,
   "metadata": {},
   "outputs": [
    {
     "data": {
      "text/plain": [
       "Index(['Fuente', 'ID Contrato', 'ID Proceso', 'ID entidad Plataforma',\n",
       "       'Entidad', 'NIT Entidad', 'Orden', 'Modalidad', 'Estado',\n",
       "       'Descripción proceso', 'Objeto Contrato', 'Tipo de contrato',\n",
       "       'Fecha de Firma', 'UNSPSC', 'Nombre Proveedor', 'Documento Proveedor',\n",
       "       'Tipo de documento proveedor', 'Valor del contrato',\n",
       "       'Departamento Entidad', 'Ciudad Entidad', 'Inicio de contrato',\n",
       "       'Fin de contrato', 'URL', 'Descripción proceso 2', 'Cluster', 'Tema_x',\n",
       "       'Sirve_x', 'Tema_y'],\n",
       "      dtype='object')"
      ]
     },
     "execution_count": 4,
     "metadata": {},
     "output_type": "execute_result"
    }
   ],
   "source": [
    "Consulta.columns"
   ]
  },
  {
   "cell_type": "code",
   "execution_count": 5,
   "metadata": {},
   "outputs": [
    {
     "name": "stdout",
     "output_type": "stream",
     "text": [
      "0\n"
     ]
    }
   ],
   "source": [
    "import openai\n",
    "Datos_Procesados='../../Datos/Datos Procesados/'\n",
    "# Reemplaza 'your_api_key' por tu clave API de OpenAI\n",
    "openai.api_key = OPEN_AI_TOKEN\n",
    "for k in range(0,9070):\n",
    "    print(k)\n",
    "    ES_EP = []\n",
    "    Tipo_Contrato = []\n",
    "    Area=[]\n",
    "    Sector_Economico=[]\n",
    "    Proveedor_EP=[]\n",
    "    Observaciones=[]\n",
    "    Consulta_1000=Consulta[k*10:(k+1)*10]\n",
    "    for i in Consulta_1000.index:\n",
    "        \n",
    "        Proveedor = Consulta_1000['Nombre Proveedor'][i]\n",
    "        Entidad = Consulta_1000['Entidad'][i]\n",
    "        Objeto = Consulta_1000['Descripción proceso'][i]\n",
    "        Valor = str(Consulta_1000['Valor del contrato'][i])\n",
    "        # Información inicial proporcionada por el usuario\n",
    "        info = \"\"\"\n",
    "        Se contrató a\"\"\"+Proveedor+\"\"\" por \"\"\"+Entidad+\"\"\" para \"\"\"+Objeto+\"\"\" por \"\"\"+Valor+\"\"\" pesos colombianos.\n",
    "        ¿Te parece de Economía Popular?\n",
    "        Puedes responderme como la fila de una tabla con un encabezado:\n",
    "        |¿Es Economía Popular?|Tipo de contrato|Área|Sector Económico relacionado|¿El prooveddor es EP?|Observaciones|\n",
    "        \"\"\"\n",
    "        messages = [\n",
    "                {\"role\": \"system\", \"content\": \"Tienes información sobre el contrato.\"},\n",
    "                {\"role\": \"user\", \"content\": info},\n",
    "            ]\n",
    "\n",
    "            # Realiza la solicitud a la API de OpenAI utilizando el endpoint v1/chat/completions\n",
    "        response = openai.ChatCompletion.create(\n",
    "            model=\"gpt-3.5-turbo\",\n",
    "            messages=messages,\n",
    "            max_tokens=100,  # Ajusta la cantidad de tokens máxima según tus necesidades\n",
    "            n=1,\n",
    "            stop=None,\n",
    "            temperature=0.5,\n",
    "        )\n",
    "\n",
    "        answer = response.choices[0]\n",
    "        answer = answer.to_dict()['message']['content']\n",
    "        answer=answer.split('|')[1:5]\n",
    "        try:\n",
    "            ES_EP.append(answer[0])\n",
    "        except:\n",
    "            ES_EP.append('No se')\n",
    "        \n",
    "        try:\n",
    "            Tipo_Contrato.append(answer[1])\n",
    "        except:\n",
    "            Tipo_Contrato.append('No se')\n",
    "\n",
    "        try:\n",
    "            Area.append(answer[2])\n",
    "        except:\n",
    "            Area.append('No se')\n",
    "            \n",
    "        try:\n",
    "            Sector_Economico.append(answer[3])\n",
    "        except:\n",
    "            Sector_Economico.append('No se')\n",
    "        try:\n",
    "            Proveedor_EP.append(answer[4])\n",
    "        except:\n",
    "            Proveedor_EP.append('No se')\n",
    "        try:\n",
    "            Observaciones.append(answer[5])\n",
    "        except:\n",
    "            Observaciones.append('No se')\n",
    "    Consulta_1000['Proveedor_EP']=Proveedor_EP\n",
    "    Consulta_1000['Observaciones']=Observaciones\n",
    "    Consulta_1000['ES_EP']=ES_EP\n",
    "    Consulta_1000['Tipo_Contrato']=Tipo_Contrato\n",
    "    Consulta_1000['Area']=Area\n",
    "    Consulta_1000['Sector_Economico']=Sector_Economico\n",
    "    Consulta_1000.to_parquet(Datos_Procesados+'Consulta_'+str(k)+'_10.parquet')\n",
    "    if k==0:\n",
    "        Consulta_1000.to_excel(Datos_Procesados+'Consulta_'+str(k)+'_10.xlsx')"
   ]
  },
  {
   "cell_type": "code",
   "execution_count": null,
   "metadata": {},
   "outputs": [],
   "source": []
  }
 ],
 "metadata": {
  "kernelspec": {
   "display_name": "base",
   "language": "python",
   "name": "python3"
  },
  "language_info": {
   "codemirror_mode": {
    "name": "ipython",
    "version": 3
   },
   "file_extension": ".py",
   "mimetype": "text/x-python",
   "name": "python",
   "nbconvert_exporter": "python",
   "pygments_lexer": "ipython3",
   "version": "3.10.6"
  },
  "orig_nbformat": 4
 },
 "nbformat": 4,
 "nbformat_minor": 2
}
