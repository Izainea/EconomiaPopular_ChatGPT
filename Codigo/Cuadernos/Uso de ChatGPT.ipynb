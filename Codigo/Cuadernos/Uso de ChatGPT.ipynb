{
 "cells": [
  {
   "attachments": {},
   "cell_type": "markdown",
   "metadata": {},
   "source": [
    "<div style=padding: 30px;\n",
    "    text-align: center; class='row'>\n",
    "<div style=\"float:left;width: 15%;\" class='column'><a href=\"https://www.colombiacompra.gov.co\"><img alt=\"Logo Colombia Compra Eficiente\" id=\"logocce\" src=\"https://www.colombiacompra.gov.co/sites/cce_public/files/Images/logocce.png\" style=\"height: 45px;\"></a></div>\n",
    "<div style=\"float:left;width: 70%;\" class='column'><h1 text-align: center>Revisión de contratos con OPENAI</h1></div>\n",
    "<div style=\"float:left;width: 15%;\" class='column'><a href=\"https://www.dnp.gov.co/\" target=\"_blank\"><img class=\"float-right\" id=\"logodnp\" src=\"https://www.dnp.gov.co/img/logoNuevo.jpg\" style=\"width: 200px;\"></a></div></di"
   ]
  },
  {
   "cell_type": "code",
   "execution_count": 1,
   "metadata": {},
   "outputs": [],
   "source": [
    "### Librerias de consulta\n",
    "\n",
    "import os\n",
    "import pandas as pd\n",
    "import numpy as np\n",
    "import matplotlib.pyplot as plt\n",
    "import seaborn as sns\n",
    "\n",
    "import openai\n",
    "import json\n",
    "from dotenv import load_dotenv\n"
   ]
  },
  {
   "cell_type": "code",
   "execution_count": 2,
   "metadata": {},
   "outputs": [],
   "source": [
    "### Token de OpenAI\n",
    "\n",
    "OPEN_AI_TOKEN= os.getenv('token_openai')\n",
    "openai.api_key = OPEN_AI_TOKEN\n"
   ]
  },
  {
   "cell_type": "code",
   "execution_count": 3,
   "metadata": {},
   "outputs": [],
   "source": [
    "## Cargamos los datos consultados\n",
    "Datos_Crudos='../../Datos/Datos Crudos/'\n",
    "Consulta = pd.read_parquet(Datos_Crudos+'SECOP_I_II.parquet')"
   ]
  },
  {
   "cell_type": "code",
   "execution_count": 31,
   "metadata": {},
   "outputs": [
    {
     "data": {
      "text/plain": [
       "Index(['Fuente', 'ID Contrato', 'ID Proceso', 'ID entidad Plataforma',\n",
       "       'Entidad', 'NIT Entidad', 'Orden', 'Modalidad', 'Estado',\n",
       "       'Descripción proceso', 'Objeto Contrato', 'Tipo de contrato',\n",
       "       'Fecha de Firma', 'UNSPSC', 'Nombre Proveedor', 'Documento Proveedor',\n",
       "       'Tipo de documento proveedor', 'Valor del contrato',\n",
       "       'Departamento Entidad', 'Ciudad Entidad', 'Inicio de contrato',\n",
       "       'Fin de contrato', 'URL', 'Año', 'Mes', 'ID', 'Año-Mes'],\n",
       "      dtype='object', name='Unificado')"
      ]
     },
     "execution_count": 31,
     "metadata": {},
     "output_type": "execute_result"
    }
   ],
   "source": [
    "Consulta.columns"
   ]
  },
  {
   "cell_type": "code",
   "execution_count": 46,
   "metadata": {},
   "outputs": [
    {
     "ename": "ValueError",
     "evalue": "Length of values (1000) does not match length of index (504)",
     "output_type": "error",
     "traceback": [
      "\u001b[0;31m---------------------------------------------------------------------------\u001b[0m",
      "\u001b[0;31mValueError\u001b[0m                                Traceback (most recent call last)",
      "\u001b[1;32m/dropbox/Dropbox/CCE-projects/EconomiaPopular_ChatGPT/Codigo/Cuadernos/Uso de ChatGPT.ipynb Celda 6\u001b[0m in \u001b[0;36m6\n\u001b[1;32m     <a href='vscode-notebook-cell:/dropbox/Dropbox/CCE-projects/EconomiaPopular_ChatGPT/Codigo/Cuadernos/Uso%20de%20ChatGPT.ipynb#X14sZmlsZQ%3D%3D?line=57'>58</a>\u001b[0m     \u001b[39mexcept\u001b[39;00m:\n\u001b[1;32m     <a href='vscode-notebook-cell:/dropbox/Dropbox/CCE-projects/EconomiaPopular_ChatGPT/Codigo/Cuadernos/Uso%20de%20ChatGPT.ipynb#X14sZmlsZQ%3D%3D?line=58'>59</a>\u001b[0m         Sector_Economico\u001b[39m.\u001b[39mappend(\u001b[39m'\u001b[39m\u001b[39mNo se\u001b[39m\u001b[39m'\u001b[39m)\n\u001b[0;32m---> <a href='vscode-notebook-cell:/dropbox/Dropbox/CCE-projects/EconomiaPopular_ChatGPT/Codigo/Cuadernos/Uso%20de%20ChatGPT.ipynb#X14sZmlsZQ%3D%3D?line=59'>60</a>\u001b[0m Consulta_1000[\u001b[39m'\u001b[39m\u001b[39mES_EP\u001b[39m\u001b[39m'\u001b[39m]\u001b[39m=\u001b[39mES_EP\n\u001b[1;32m     <a href='vscode-notebook-cell:/dropbox/Dropbox/CCE-projects/EconomiaPopular_ChatGPT/Codigo/Cuadernos/Uso%20de%20ChatGPT.ipynb#X14sZmlsZQ%3D%3D?line=60'>61</a>\u001b[0m Consulta_1000[\u001b[39m'\u001b[39m\u001b[39mTipo_Contrato\u001b[39m\u001b[39m'\u001b[39m]\u001b[39m=\u001b[39mTipo_Contrato\n\u001b[1;32m     <a href='vscode-notebook-cell:/dropbox/Dropbox/CCE-projects/EconomiaPopular_ChatGPT/Codigo/Cuadernos/Uso%20de%20ChatGPT.ipynb#X14sZmlsZQ%3D%3D?line=61'>62</a>\u001b[0m Consulta_1000[\u001b[39m'\u001b[39m\u001b[39mArea\u001b[39m\u001b[39m'\u001b[39m]\u001b[39m=\u001b[39mArea\n",
      "File \u001b[0;32m~/miniconda3/lib/python3.10/site-packages/pandas/core/frame.py:3959\u001b[0m, in \u001b[0;36mDataFrame.__setitem__\u001b[0;34m(self, key, value)\u001b[0m\n\u001b[1;32m   3956\u001b[0m     \u001b[39mself\u001b[39m\u001b[39m.\u001b[39m_setitem_array([key], value)\n\u001b[1;32m   3957\u001b[0m \u001b[39melse\u001b[39;00m:\n\u001b[1;32m   3958\u001b[0m     \u001b[39m# set column\u001b[39;00m\n\u001b[0;32m-> 3959\u001b[0m     \u001b[39mself\u001b[39;49m\u001b[39m.\u001b[39;49m_set_item(key, value)\n",
      "File \u001b[0;32m~/miniconda3/lib/python3.10/site-packages/pandas/core/frame.py:4152\u001b[0m, in \u001b[0;36mDataFrame._set_item\u001b[0;34m(self, key, value)\u001b[0m\n\u001b[1;32m   4142\u001b[0m \u001b[39mdef\u001b[39;00m \u001b[39m_set_item\u001b[39m(\u001b[39mself\u001b[39m, key, value) \u001b[39m-\u001b[39m\u001b[39m>\u001b[39m \u001b[39mNone\u001b[39;00m:\n\u001b[1;32m   4143\u001b[0m     \u001b[39m\"\"\"\u001b[39;00m\n\u001b[1;32m   4144\u001b[0m \u001b[39m    Add series to DataFrame in specified column.\u001b[39;00m\n\u001b[1;32m   4145\u001b[0m \n\u001b[0;32m   (...)\u001b[0m\n\u001b[1;32m   4150\u001b[0m \u001b[39m    ensure homogeneity.\u001b[39;00m\n\u001b[1;32m   4151\u001b[0m \u001b[39m    \"\"\"\u001b[39;00m\n\u001b[0;32m-> 4152\u001b[0m     value \u001b[39m=\u001b[39m \u001b[39mself\u001b[39;49m\u001b[39m.\u001b[39;49m_sanitize_column(value)\n\u001b[1;32m   4154\u001b[0m     \u001b[39mif\u001b[39;00m (\n\u001b[1;32m   4155\u001b[0m         key \u001b[39min\u001b[39;00m \u001b[39mself\u001b[39m\u001b[39m.\u001b[39mcolumns\n\u001b[1;32m   4156\u001b[0m         \u001b[39mand\u001b[39;00m value\u001b[39m.\u001b[39mndim \u001b[39m==\u001b[39m \u001b[39m1\u001b[39m\n\u001b[1;32m   4157\u001b[0m         \u001b[39mand\u001b[39;00m \u001b[39mnot\u001b[39;00m is_extension_array_dtype(value)\n\u001b[1;32m   4158\u001b[0m     ):\n\u001b[1;32m   4159\u001b[0m         \u001b[39m# broadcast across multiple columns if necessary\u001b[39;00m\n\u001b[1;32m   4160\u001b[0m         \u001b[39mif\u001b[39;00m \u001b[39mnot\u001b[39;00m \u001b[39mself\u001b[39m\u001b[39m.\u001b[39mcolumns\u001b[39m.\u001b[39mis_unique \u001b[39mor\u001b[39;00m \u001b[39misinstance\u001b[39m(\u001b[39mself\u001b[39m\u001b[39m.\u001b[39mcolumns, MultiIndex):\n",
      "File \u001b[0;32m~/miniconda3/lib/python3.10/site-packages/pandas/core/frame.py:4878\u001b[0m, in \u001b[0;36mDataFrame._sanitize_column\u001b[0;34m(self, value)\u001b[0m\n\u001b[1;32m   4875\u001b[0m     \u001b[39mreturn\u001b[39;00m _reindex_for_setitem(Series(value), \u001b[39mself\u001b[39m\u001b[39m.\u001b[39mindex)\n\u001b[1;32m   4877\u001b[0m \u001b[39mif\u001b[39;00m is_list_like(value):\n\u001b[0;32m-> 4878\u001b[0m     com\u001b[39m.\u001b[39;49mrequire_length_match(value, \u001b[39mself\u001b[39;49m\u001b[39m.\u001b[39;49mindex)\n\u001b[1;32m   4879\u001b[0m \u001b[39mreturn\u001b[39;00m sanitize_array(value, \u001b[39mself\u001b[39m\u001b[39m.\u001b[39mindex, copy\u001b[39m=\u001b[39m\u001b[39mTrue\u001b[39;00m, allow_2d\u001b[39m=\u001b[39m\u001b[39mTrue\u001b[39;00m)\n",
      "File \u001b[0;32m~/miniconda3/lib/python3.10/site-packages/pandas/core/common.py:576\u001b[0m, in \u001b[0;36mrequire_length_match\u001b[0;34m(data, index)\u001b[0m\n\u001b[1;32m    572\u001b[0m \u001b[39m\"\"\"\u001b[39;00m\n\u001b[1;32m    573\u001b[0m \u001b[39mCheck the length of data matches the length of the index.\u001b[39;00m\n\u001b[1;32m    574\u001b[0m \u001b[39m\"\"\"\u001b[39;00m\n\u001b[1;32m    575\u001b[0m \u001b[39mif\u001b[39;00m \u001b[39mlen\u001b[39m(data) \u001b[39m!=\u001b[39m \u001b[39mlen\u001b[39m(index):\n\u001b[0;32m--> 576\u001b[0m     \u001b[39mraise\u001b[39;00m \u001b[39mValueError\u001b[39;00m(\n\u001b[1;32m    577\u001b[0m         \u001b[39m\"\u001b[39m\u001b[39mLength of values \u001b[39m\u001b[39m\"\u001b[39m\n\u001b[1;32m    578\u001b[0m         \u001b[39mf\u001b[39m\u001b[39m\"\u001b[39m\u001b[39m(\u001b[39m\u001b[39m{\u001b[39;00m\u001b[39mlen\u001b[39m(data)\u001b[39m}\u001b[39;00m\u001b[39m) \u001b[39m\u001b[39m\"\u001b[39m\n\u001b[1;32m    579\u001b[0m         \u001b[39m\"\u001b[39m\u001b[39mdoes not match length of index \u001b[39m\u001b[39m\"\u001b[39m\n\u001b[1;32m    580\u001b[0m         \u001b[39mf\u001b[39m\u001b[39m\"\u001b[39m\u001b[39m(\u001b[39m\u001b[39m{\u001b[39;00m\u001b[39mlen\u001b[39m(index)\u001b[39m}\u001b[39;00m\u001b[39m)\u001b[39m\u001b[39m\"\u001b[39m\n\u001b[1;32m    581\u001b[0m     )\n",
      "\u001b[0;31mValueError\u001b[0m: Length of values (1000) does not match length of index (504)"
     ]
    }
   ],
   "source": [
    "import openai\n",
    "Datos_Procesados='../../Datos/Datos Procesados/'\n",
    "# Reemplaza 'your_api_key' por tu clave API de OpenAI\n",
    "openai.api_key = OPEN_AI_TOKEN\n",
    "for k in range(1,338):\n",
    "    print(k)\n",
    "    ES_EP = []\n",
    "    Tipo_Contrato = []\n",
    "    Area=[]\n",
    "    Sector_Economico=[]\n",
    "    Consulta_1000=Consulta[k*1000:(k+1)*1000]\n",
    "    for i in Consulta_1000.index:\n",
    "        if i%100==0:\n",
    "            print(i)\n",
    "        \n",
    "        Proveedor = Consulta_1000['Nombre Proveedor'][i]\n",
    "        Entidad = Consulta_1000['Entidad'][i]\n",
    "        Objeto = Consulta_1000['Descripción proceso'][i]\n",
    "        Valor = str(Consulta_1000['Valor del contrato'][i])\n",
    "        # Información inicial proporcionada por el usuario\n",
    "        info = \"\"\"\n",
    "        Se contrató a\"\"\"+Proveedor+\"\"\" por \"\"\"+Entidad+\"\"\" para \"\"\"+Objeto+\"\"\" por \"\"\"+Valor+\"\"\" pesos colombianos.\n",
    "        ¿Te parece de Economía Popular?\n",
    "        Puedes responderme como la fila de una tabla con un encabezado:\n",
    "        |¿Es Economía Popular?|Tipo de contrato|Área|Sector Económico relacionado|¿El prooveddor es EP?|Observaciones|\n",
    "        \"\"\"\n",
    "        messages = [\n",
    "                {\"role\": \"system\", \"content\": \"Tienes información sobre el contrato.\"},\n",
    "                {\"role\": \"user\", \"content\": info},\n",
    "            ]\n",
    "\n",
    "            # Realiza la solicitud a la API de OpenAI utilizando el endpoint v1/chat/completions\n",
    "        response = openai.ChatCompletion.create(\n",
    "            model=\"gpt-3.5-turbo\",\n",
    "            messages=messages,\n",
    "            max_tokens=100,  # Ajusta la cantidad de tokens máxima según tus necesidades\n",
    "            n=1,\n",
    "            stop=None,\n",
    "            temperature=0.5,\n",
    "        )\n",
    "\n",
    "        answer = response.choices[0]\n",
    "        answer = answer.to_dict()['message']['content']\n",
    "        answer=answer.split('|')[1:5]\n",
    "        try:\n",
    "            ES_EP.append(answer[0])\n",
    "        except:\n",
    "            ES_EP.append('No se')\n",
    "        \n",
    "        try:\n",
    "            Tipo_Contrato.append(answer[1])\n",
    "        except:\n",
    "            Tipo_Contrato.append('No se')\n",
    "\n",
    "        try:\n",
    "            Area.append(answer[2])\n",
    "        except:\n",
    "            Area.append('No se')\n",
    "            \n",
    "        try:\n",
    "            Sector_Economico.append(answer[3])\n",
    "        except:\n",
    "            Sector_Economico.append('No se')\n",
    "    Consulta_1000['ES_EP']=ES_EP\n",
    "    Consulta_1000['Tipo_Contrato']=Tipo_Contrato\n",
    "    Consulta_1000['Area']=Area\n",
    "    Consulta_1000['Sector_Economico']=Sector_Economico\n",
    "    Consulta_1000.to_parquet(Datos_Procesados+'Consulta_'+str(k)+'_1000.parquet')"
   ]
  }
 ],
 "metadata": {
  "kernelspec": {
   "display_name": "base",
   "language": "python",
   "name": "python3"
  },
  "language_info": {
   "codemirror_mode": {
    "name": "ipython",
    "version": 3
   },
   "file_extension": ".py",
   "mimetype": "text/x-python",
   "name": "python",
   "nbconvert_exporter": "python",
   "pygments_lexer": "ipython3",
   "version": "3.10.6"
  },
  "orig_nbformat": 4
 },
 "nbformat": 4,
 "nbformat_minor": 2
}
