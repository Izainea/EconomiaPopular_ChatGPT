{
 "cells": [
  {
   "attachments": {},
   "cell_type": "markdown",
   "metadata": {},
   "source": [
    "<div style=padding: 30px;\n",
    "    text-align: center; class='row'>\n",
    "<div style=\"float:left;width: 15%;\" class='column'><a href=\"https://www.colombiacompra.gov.co\"><img alt=\"Logo Colombia Compra Eficiente\" id=\"logocce\" src=\"https://www.colombiacompra.gov.co/sites/cce_public/files/Images/logocce.png\" style=\"height: 45px;\"></a></div>\n",
    "<div style=\"float:left;width: 70%;\" class='column'><h1 text-align: center>Consulta Economía Popular</h1></div>\n",
    "<div style=\"float:left;width: 15%;\" class='column'><a href=\"https://www.dnp.gov.co/\" target=\"_blank\"><img class=\"float-right\" id=\"logodnp\" src=\"https://www.dnp.gov.co/img/logoNuevo.jpg\" style=\"width: 200px;\"></a></div></div>"
   ]
  },
  {
   "attachments": {},
   "cell_type": "markdown",
   "metadata": {},
   "source": [
    "En este cuaderno se hace la consulta desde el portal de datos abiertos de MINTIC para obtener los posibles contratos de economía popular. Se hace la consulta por medio de la API SOCRATA y se consideran los contratos de 2020 hasta 2023."
   ]
  },
  {
   "cell_type": "code",
   "execution_count": 1,
   "metadata": {},
   "outputs": [],
   "source": [
    "## Cargamos librerias\n",
    "\n",
    "import pandas as pd\n",
    "import numpy as np\n",
    "import matplotlib.pyplot as plt\n",
    "import seaborn as sns\n",
    "import os\n",
    "from sodapy import Socrata\n",
    "import os\n",
    "from dotenv import load_dotenv\n",
    "\n",
    "\n",
    "SOCRATA_TOKEN = os.getenv('token_socrata')"
   ]
  },
  {
   "cell_type": "code",
   "execution_count": 2,
   "metadata": {},
   "outputs": [],
   "source": [
    "### Cargamos cliente de socrata para SECOP I\n",
    "\n",
    "client = Socrata(\"www.datos.gov.co\", SOCRATA_TOKEN,timeout=200000)\n",
    "dataset_identifier = \"f789-7hwg\"\n",
    "dataset_metadata = client.get_metadata(dataset_identifier)"
   ]
  },
  {
   "cell_type": "code",
   "execution_count": 3,
   "metadata": {},
   "outputs": [],
   "source": [
    "## Cargamos consulta de datos, usamos palabras clave para filtrar.\n",
    "\n",
    "\n",
    "query=\"\"\"select\n",
    " *\n",
    "where \n",
    "    anno_firma_contrato >= '2020' and\n",
    "    detalle_del_objeto_a_contratar like '%solidar%' or\n",
    "    detalle_del_objeto_a_contratar like '%ong%' or\n",
    "    detalle_del_objeto_a_contratar like '%fundaci%' or\n",
    "    detalle_del_objeto_a_contratar like '%junta%' or\n",
    "    detalle_del_objeto_a_contratar like '%comedores comunitarios%' or\n",
    "    detalle_del_objeto_a_contratar like '%veredas%' or\n",
    "    detalle_del_objeto_a_contratar like '%cooper%' or\n",
    "    detalle_del_objeto_a_contratar like '%asociac%' or\n",
    "    detalle_del_objeto_a_contratar like '%comunidades%' or\n",
    "    detalle_del_objeto_a_contratar like '%aliment%' or\n",
    "    detalle_del_objeto_a_contratar like '%atenci%' or\n",
    "    detalle_del_objeto_a_contratar like '%soci%' or\n",
    "    detalle_del_objeto_a_contratar like '%comed%' or\n",
    "    detalle_del_objeto_a_contratar like '%mercad%' or\n",
    "    detalle_del_objeto_a_contratar like '%campesin%' or\n",
    "    detalle_del_objeto_a_contratar like '%ambient%' or\n",
    "    detalle_del_objeto_a_contratar like '%cultur%' or\n",
    "    nom_razon_social_contratista like '%cabild%'  or\n",
    "    nom_razon_social_contratista like '%negr%'  or\n",
    "    nom_razon_social_contratista like '%afroco%'  or\n",
    "    nom_razon_social_contratista like '%raiza%'  or\n",
    "    nom_razon_social_contratista like '%palen%'  or\n",
    "    nom_razon_social_contratista like '%asociac%'  or\n",
    "    nom_razon_social_contratista like '%madre%'  or\n",
    "    nom_razon_social_contratista like '%relig%'  or\n",
    "    nom_razon_social_contratista like '%igles%'  or\n",
    "    nom_razon_social_contratista like '%campes%'  or\n",
    "    nom_razon_social_contratista like '%asociac%'  or\n",
    "    nom_razon_social_contratista like '%cooper%' or \n",
    "    nom_razon_social_contratista like '%solidar%' or\n",
    "    nom_razon_social_contratista like '%ong%' or\n",
    "    nom_razon_social_contratista like '%fundaci%' or\n",
    "    nom_razon_social_contratista like '%comunit%' or\n",
    "    nom_razon_social_contratista like '%comunidades%' or\n",
    "    nom_razon_social_contratista like '%junt%' or\n",
    "    nom_razon_social_contratista like '%comun%'  or\n",
    "    nom_razon_social_contratista like '%acci%'  or\n",
    "    nom_razon_social_contratista like '%veredas%' or \n",
    "    nom_razon_social_contratista like '%parroqui%' or\n",
    "    nom_razon_social_contratista like '%agricultura%' or\n",
    "    nom_razon_social_contratista like '%ganaderia%' or\n",
    "    nom_razon_social_contratista like '%manufactura%' or\n",
    "    nom_razon_social_contratista like '%iglesia%' or\n",
    "    nom_razon_social_contratista like '%parroquias%' or\n",
    "    nom_razon_social_contratista like '%no calificada%' or\n",
    "    nom_razon_social_contratista like '%mensajeria%' or\n",
    "    nom_razon_social_contratista like '%reoaracion%' or\n",
    "    nom_razon_social_contratista like '%inmobil%' or\n",
    "    nom_razon_social_contratista like '%reccrear%' or\n",
    "    nom_razon_social_contratista like '%entretenimiento%' or\n",
    "    nom_razon_social_contratista like '%mensajeria%' or\n",
    "    nom_razon_social_contratista like '%correo%' or\n",
    "    nom_razon_social_contratista like '%envios%' or\n",
    "    nom_razon_social_contratista like '%cafe internet%' or\n",
    "    nom_razon_social_contratista like '%llamadas%' or\n",
    "    nom_razon_social_contratista like '%recargas%' or\n",
    "    nom_razon_social_contratista like '%reoaracion%' or\n",
    "    nom_razon_social_contratista like '%cultivos%' or\n",
    "    nom_razon_social_contratista like '%cria%' or\n",
    "    nom_razon_social_contratista like '%pesca%' or\n",
    "    nom_razon_social_contratista like '%artes%' or\n",
    "    nom_razon_social_contratista like '%sindicatos%' or\n",
    "    nom_razon_social_contratista like '%asociaciones religiosas%' or\n",
    "    nom_razon_social_contratista like '%partidos%' or\n",
    "    nom_razon_social_contratista like '%domestico%' or\n",
    "    nom_razon_social_contratista like '%mano de obra%' or\n",
    "    nom_razon_social_contratista like '%supermer%' or\n",
    "    nom_razon_social_contratista like '%distribui%' or\n",
    "    nom_razon_social_contratista like '%comandita%' or\n",
    "    nom_razon_social_contratista like '%de lucro%' or\n",
    "    nom_razon_social_contratista like '%ESAL%' or\n",
    "    nom_razon_social_contratista like '%SAS%'  or\n",
    "    nom_razon_social_contratista like '%socied%' or\n",
    "    nom_razon_social_contratista like '%agro%'  or  \n",
    "    nom_razon_social_contratista like '%mano de obra%' or\n",
    "    nom_razon_social_contratista like '%feder%' or\n",
    "    nom_razon_social_contratista like '%popul%' \n",
    "\n",
    "limit\n",
    "10000000\n",
    "\"\"\"\n",
    "\n",
    "results = client.get(dataset_identifier,content_type=\"json\",query=query)\n",
    "\n",
    "Consulta_S1=pd.DataFrame(pd.DataFrame.from_dict(results))\n",
    "#Consulta_S1 "
   ]
  },
  {
   "cell_type": "code",
   "execution_count": 4,
   "metadata": {},
   "outputs": [],
   "source": [
    "## Repetimos el proceso para SECOP II\n",
    "\n",
    "dataset_identifier = \"jbjy-vk9h\""
   ]
  },
  {
   "cell_type": "code",
   "execution_count": 5,
   "metadata": {},
   "outputs": [],
   "source": [
    "\n",
    "query=\"\"\"select\n",
    " *\n",
    "where \n",
    "    fecha_de_firma >= '2020-01-01' and\n",
    "    objeto_del_contrato like '%solidar%' or\n",
    "    objeto_del_contrato like '%ong%' or\n",
    "    objeto_del_contrato like '%fundaci%' or\n",
    "    objeto_del_contrato like '%junta%' or\n",
    "    objeto_del_contrato like '%comedores comunitarios%' or\n",
    "    objeto_del_contrato like '%veredas%' or\n",
    "    objeto_del_contrato like '%cooper%' or\n",
    "    objeto_del_contrato like '%asociac%' or\n",
    "    objeto_del_contrato like '%comunidades%' or\n",
    "    objeto_del_contrato like '%aliment%' or\n",
    "    objeto_del_contrato like '%atenci%' or\n",
    "    objeto_del_contrato like '%soci%' or\n",
    "    objeto_del_contrato like '%comed%' or\n",
    "    objeto_del_contrato like '%mercad%' or\n",
    "    objeto_del_contrato like '%campesin%' or\n",
    "    objeto_del_contrato like '%ambient%' or\n",
    "    objeto_del_contrato like '%cultur%' or\n",
    "    descripcion_del_proceso like '%solidar%' or\n",
    "    descripcion_del_proceso like '%ong%' or\n",
    "    descripcion_del_proceso like '%fundaci%' or\n",
    "    descripcion_del_proceso like '%junta%' or\n",
    "    descripcion_del_proceso like '%comedores comunitarios%' or\n",
    "    descripcion_del_proceso like '%veredas%' or\n",
    "    descripcion_del_proceso like '%cooper%' or\n",
    "    descripcion_del_proceso like '%asociac%' or\n",
    "    descripcion_del_proceso like '%comunidades%' or\n",
    "    descripcion_del_proceso like '%aliment%' or\n",
    "    descripcion_del_proceso like '%atenci%' or\n",
    "    descripcion_del_proceso like '%soci%' or\n",
    "    descripcion_del_proceso like '%comed%' or\n",
    "    descripcion_del_proceso like '%mercad%' or\n",
    "    descripcion_del_proceso like '%campesin%' or\n",
    "    descripcion_del_proceso like '%ambient%' or\n",
    "    descripcion_del_proceso like '%cultur%' or\n",
    "    proveedor_adjudicado like '%cabild%'  or\n",
    "    proveedor_adjudicado like '%negr%'  or\n",
    "    proveedor_adjudicado like '%afroco%'  or\n",
    "    proveedor_adjudicado like '%raiza%'  or\n",
    "    proveedor_adjudicado like '%palen%'  or\n",
    "    proveedor_adjudicado like '%asociac%'  or\n",
    "    proveedor_adjudicado like '%madre%'  or\n",
    "    proveedor_adjudicado like '%relig%'  or\n",
    "    proveedor_adjudicado like '%igles%'  or\n",
    "    proveedor_adjudicado like '%campes%'  or\n",
    "    proveedor_adjudicado like '%asociac%'  or\n",
    "    proveedor_adjudicado like '%cooper%' or \n",
    "    proveedor_adjudicado like '%solidar%' or\n",
    "    proveedor_adjudicado like '%ong%' or\n",
    "    proveedor_adjudicado like '%fundaci%' or\n",
    "    proveedor_adjudicado like '%comunit%' or\n",
    "    proveedor_adjudicado like '%comunidades%' or\n",
    "    proveedor_adjudicado like '%junt%' or\n",
    "    proveedor_adjudicado like '%comun%'  or\n",
    "    proveedor_adjudicado like '%acci%'  or\n",
    "    proveedor_adjudicado like '%veredas%' or \n",
    "    proveedor_adjudicado like '%parroqui%' or\n",
    "    proveedor_adjudicado like '%agricultura%' or\n",
    "    proveedor_adjudicado like '%ganaderia%' or\n",
    "    proveedor_adjudicado like '%manufactura%' or\n",
    "    proveedor_adjudicado like '%iglesia%' or\n",
    "    proveedor_adjudicado like '%parroquias%' or\n",
    "    proveedor_adjudicado like '%no calificada%' or\n",
    "    proveedor_adjudicado like '%mensajeria%' or\n",
    "    proveedor_adjudicado like '%reoaracion%' or\n",
    "    proveedor_adjudicado like '%inmobil%' or\n",
    "    proveedor_adjudicado like '%reccrear%' or\n",
    "    proveedor_adjudicado like '%entretenimiento%' or\n",
    "    proveedor_adjudicado like '%mensajeria%' or\n",
    "    proveedor_adjudicado like '%correo%' or\n",
    "    proveedor_adjudicado like '%envios%' or\n",
    "    proveedor_adjudicado like '%cafe internet%' or\n",
    "    proveedor_adjudicado like '%llamadas%' or\n",
    "    proveedor_adjudicado like '%recargas%' or\n",
    "    proveedor_adjudicado like '%reoaracion%' or\n",
    "    proveedor_adjudicado like '%cultivos%' or\n",
    "    proveedor_adjudicado like '%cria%' or\n",
    "    proveedor_adjudicado like '%pesca%' or\n",
    "    proveedor_adjudicado like '%artes%' or\n",
    "    proveedor_adjudicado like '%sindicatos%' or\n",
    "    proveedor_adjudicado like '%asociaciones religiosas%' or\n",
    "    proveedor_adjudicado like '%partidos%' or\n",
    "    proveedor_adjudicado like '%domestico%' or\n",
    "    proveedor_adjudicado like '%mano de obra%' or\n",
    "    proveedor_adjudicado like '%supermer%' or\n",
    "    proveedor_adjudicado like '%distribui%' or\n",
    "    proveedor_adjudicado like '%comandita%' or\n",
    "    proveedor_adjudicado like '%de lucro%' or\n",
    "    proveedor_adjudicado like '%ESAL%' or\n",
    "    proveedor_adjudicado like '%SAS%' or\n",
    "    proveedor_adjudicado like '%socied%' or\n",
    "    proveedor_adjudicado like '%agro%'   or  \n",
    "    proveedor_adjudicado like '%mano de obra%' or \n",
    "    proveedor_adjudicado like '%feder%' or\n",
    "    proveedor_adjudicado like '%popul%' \n",
    "\n",
    "limit\n",
    "10000000\n",
    "\"\"\"\n",
    "\n",
    "results = client.get(dataset_identifier,content_type=\"json\",query=query)\n",
    "\n",
    "Consulta_S2=pd.DataFrame(pd.DataFrame.from_dict(results))\n",
    "#Consulta_S2"
   ]
  },
  {
   "cell_type": "code",
   "execution_count": 6,
   "metadata": {},
   "outputs": [],
   "source": [
    "### Integramos la imformación usando la base Homologa_columnas\n",
    "### Dicha tabla nos permite homologar las columnas de las diferentes fuentes de información\n",
    "\n",
    "Ruta_Datos_Auxiliares=\"../../Datos/Datos Auxiliares\"\n",
    "\n",
    "HC=pd.read_csv(Ruta_Datos_Auxiliares+\"/Homologa_columnas.csv\")"
   ]
  },
  {
   "cell_type": "code",
   "execution_count": 7,
   "metadata": {},
   "outputs": [],
   "source": [
    "### Extraemos las columnas homologables\n",
    "\n",
    "HC=HC[HC['API_DA_S_I'].notna()]\n",
    "HC=HC[HC['API_DA_S_II'].notna()]\n",
    "\n",
    "### Adecuamos para SECOP I\n",
    "Consulta_S1['fuente']='SECOP I'\n",
    "Consulta_S1=Consulta_S1[HC['API_DA_S_I']]\n",
    "Consulta_S1.columns=HC['Unificado']\n",
    "\n",
    "### Adecuamos para SECOP II\n",
    "Consulta_S2['fuente']='SECOP II'\n",
    "Consulta_S2=Consulta_S2[HC['API_DA_S_II']]\n",
    "Consulta_S2.columns=HC['Unificado']\n"
   ]
  },
  {
   "cell_type": "code",
   "execution_count": 8,
   "metadata": {},
   "outputs": [
    {
     "name": "stdout",
     "output_type": "stream",
     "text": [
      "(338714, 23)\n"
     ]
    }
   ],
   "source": [
    "### Unimos las dos bases de datos\n",
    "\n",
    "Consulta=pd.concat([Consulta_S1,Consulta_S2],axis=0)\n",
    "Consulta=Consulta.loc[Consulta['Fecha de Firma'].notna()]\n",
    "Consulta=Consulta.loc[Consulta['Fecha de Firma']!='']\n",
    "Consulta=Consulta.loc[Consulta['Fecha de Firma']!='0000-00-00']\n",
    "Consulta=Consulta.loc[Consulta['Fecha de Firma'].notna()]\n",
    "Consulta=Consulta.loc[Consulta['Nombre Proveedor'].notna()]\n",
    "Consulta=Consulta.loc[Consulta['Nombre Proveedor']!='']\n",
    "print(Consulta.shape)\n",
    "Consulta=Consulta.reset_index(drop=True)"
   ]
  },
  {
   "cell_type": "code",
   "execution_count": 9,
   "metadata": {},
   "outputs": [
    {
     "data": {
      "text/plain": [
       "Fuente\n",
       "SECOP II    338098\n",
       "SECOP I        616\n",
       "Name: count, dtype: int64"
      ]
     },
     "execution_count": 9,
     "metadata": {},
     "output_type": "execute_result"
    }
   ],
   "source": [
    "Consulta['Fuente'].value_counts()"
   ]
  },
  {
   "cell_type": "code",
   "execution_count": 11,
   "metadata": {},
   "outputs": [
    {
     "name": "stdout",
     "output_type": "stream",
     "text": [
      "The file does not exist\n"
     ]
    }
   ],
   "source": [
    "### Particionamos el conjunto de datos por año-mes y lo guardamos en parquet\n",
    "\n",
    "Consulta['Fecha de Firma']=pd.to_datetime(Consulta['Fecha de Firma'])\n",
    "Consulta['Año']=Consulta['Fecha de Firma'].dt.year\n",
    "Consulta['Mes']=Consulta['Fecha de Firma'].dt.month\n",
    "\n",
    "for i in range(0,Consulta.shape[0]):\n",
    "    if Consulta.loc[i,'Mes']<10:\n",
    "        Consulta.loc[i,'Mes']='0'+str(Consulta.loc[i,'Mes'])\n",
    "    else:\n",
    "        Consulta.loc[i,'Mes']=str(Consulta.loc[i,'Mes'])\n",
    "\n",
    "Consulta['Año-Mes']=Consulta['Año'].astype(str)+'-'+Consulta['Mes'].astype(str)\n",
    "\n",
    "Consulta=Consulta.sort_values(by=['Año-Mes'],ascending=True)\n",
    "Consulta=Consulta.reset_index(drop=True)\n",
    "\n",
    "## Creamos un id único para cada contrato sumando Fuente+ID Contrato+ID Proceso+Inicio de contrato\n",
    "\n",
    "Consulta['ID']=Consulta['Fuente']+Consulta['ID Contrato'].astype(str)+Consulta['ID Proceso'].astype(str)+Consulta['Inicio de contrato'].astype(str)\n",
    "Consulta['ID']=Consulta['ID'].str.replace(' ','')\n",
    "Consulta['ID']=Consulta['ID'].str.replace('-','')\n",
    "\n",
    "## Codificamos el ID que montamos con una función de hash\n",
    "\n",
    "Consulta['ID']=Consulta['ID'].apply(lambda x: hash(x))\n",
    "\n",
    "### Guardamos la información en parquet, que permita guardar la partición por año-mes y reemplazar la información\n",
    "\n",
    "### Eliminamos el archivo en +'SECOP_I_II.parquet'\n",
    "\n",
    "Ruta_Datos=\"../../Datos/Datos Crudos/\"\n",
    "\n",
    "if os.path.exists(Ruta_Datos+'SECOP_I_II.parquet'):\n",
    "    os.remove(Ruta_Datos+'SECOP_I_II.parquet')\n",
    "else:\n",
    "    print(\"The file does not exist\")\n",
    "\n",
    "### Guardamos la información en parquet\n",
    "\n",
    "Consulta.to_parquet(Ruta_Datos+'SECOP_I_II.parquet',engine='pyarrow',partition_cols=['Año-Mes'],)\n"
   ]
  },
  {
   "attachments": {},
   "cell_type": "markdown",
   "metadata": {},
   "source": [
    "## Carga de información de consulta\n",
    "\n",
    "Se carga la información de consulta desde el archivo `Datos/Datos Crudos/SECOP_I_II.parquet` que contiene la información de la consulta realizada.\n",
    "\n"
   ]
  },
  {
   "cell_type": "code",
   "execution_count": 12,
   "metadata": {},
   "outputs": [
    {
     "data": {
      "text/plain": [
       "(338714, 27)"
      ]
     },
     "execution_count": 12,
     "metadata": {},
     "output_type": "execute_result"
    }
   ],
   "source": [
    "## Carga de consulta\n",
    "\n",
    "Ruta_Datos=\"../../Datos/Datos Crudos/\"\n",
    "\n",
    "Consulta=pd.read_parquet(Ruta_Datos+'SECOP_I_II.parquet',engine='pyarrow')\n",
    "Consulta.shape"
   ]
  },
  {
   "attachments": {},
   "cell_type": "markdown",
   "metadata": {},
   "source": [
    "Los datos consultados hacen referencia a contratos que contienen en su objeto contractual y nombre de proveedor elementos que desde el análisis preliminar podrían relacionarse con activididades referentes a la economía popular. No obstante, como la consulta es amplia y las palabras clave que determinamos escoger permiten la inclusión de contratos que no necesariamente se relacionan con la economía popular, se hace necesario realizar un proceso de depuración de los datos.\n",
    "\n",
    "En esta primera etapa usaremos herramientas elementales de procesamiento de lenguaje natural, trataremos de vectorizar los objetos contractuales con TF-IDF y luego aplicaremos un algoritmo de clustering para identificar grupos de contratos, posterior a este análisis se realizará una depuración manual de los datos para identificar los contratos que se relacionan con la economía popular."
   ]
  },
  {
   "attachments": {},
   "cell_type": "markdown",
   "metadata": {},
   "source": [
    "## Clusterización de contratos\n",
    "\n",
    "Para realizar la clusterización de los contratos se utilizará la librería `scikit-learn` y se aplicará el algoritmo de clustering `KMeans`. Para realizar la clusterización se vectorizarán los objetos contractuales con TF-IDF y se utilizará la distancia coseno para medir la similitud entre los contratos."
   ]
  },
  {
   "cell_type": "code",
   "execution_count": 13,
   "metadata": {},
   "outputs": [
    {
     "name": "stderr",
     "output_type": "stream",
     "text": [
      "[nltk_data] Downloading package stopwords to\n",
      "[nltk_data]     /home/izainea/nltk_data...\n",
      "[nltk_data]   Package stopwords is already up-to-date!\n"
     ]
    }
   ],
   "source": [
    "from sklearn.feature_extraction.text import TfidfVectorizer\n",
    "from sklearn.metrics.pairwise import cosine_similarity\n",
    "from sklearn.metrics.pairwise import linear_kernel\n",
    "from sklearn.feature_extraction.text import CountVectorizer\n",
    "from sklearn.cluster import MiniBatchKMeans\n",
    "from sklearn.model_selection import train_test_split\n",
    "from IPython.display import display, HTML\n",
    "\n",
    "import nltk\n",
    "from nltk.corpus import stopwords\n",
    "nltk.download('stopwords')\n",
    "stop_words = stopwords.words('spanish')\n",
    "from nltk.stem import SnowballStemmer\n",
    "stemmer = SnowballStemmer('spanish')\n"
   ]
  },
  {
   "cell_type": "code",
   "execution_count": 14,
   "metadata": {},
   "outputs": [],
   "source": [
    "Consulta['Descripción proceso 2']=Consulta['Descripción proceso'].str.lower().str.replace('[^a-zA-Z0-9áéíóú]', ' ', regex = True)\n",
    "Consulta['Descripción proceso 2']=Consulta['Descripción proceso 2'].fillna('').apply(lambda x: ' '.join([stemmer.stem(word) for word in x.split() if word not in (stop_words)]))"
   ]
  },
  {
   "cell_type": "code",
   "execution_count": 15,
   "metadata": {},
   "outputs": [
    {
     "name": "stderr",
     "output_type": "stream",
     "text": [
      "/home/izainea/miniconda3/lib/python3.10/site-packages/sklearn/utils/deprecation.py:87: FutureWarning: Function get_feature_names is deprecated; get_feature_names is deprecated in 1.0 and will be removed in 1.2. Please use get_feature_names_out instead.\n",
      "  warnings.warn(msg, category=FutureWarning)\n"
     ]
    }
   ],
   "source": [
    "Tfidf = TfidfVectorizer(stop_words=stop_words)\n",
    "Tfidf_matrix = Tfidf.fit_transform(Consulta['Descripción proceso 2'].fillna(''))\n",
    "\n",
    "kmeans = MiniBatchKMeans(n_clusters=120, random_state=0).fit(Tfidf_matrix)\n",
    "Consulta['Cluster']=kmeans.labels_\n",
    "\n",
    "Consulta['Cluster'].value_counts()\n",
    "order_centroids = kmeans.cluster_centers_.argsort()[:, ::-1]\n",
    "terms = Tfidf.get_feature_names()\n",
    "#for i in range(60):\n",
    "#    print(\"Cluster %d:\" % i),\n",
    "#    for ind in order_centroids[i, :20]:\n",
    "#        print(\" %s\" % terms[ind])"
   ]
  },
  {
   "cell_type": "code",
   "execution_count": 17,
   "metadata": {},
   "outputs": [
    {
     "name": "stdout",
     "output_type": "stream",
     "text": [
      "The file does not exist\n"
     ]
    }
   ],
   "source": [
    "## Guardamos la consulta en parquet, hacemos un guardado que solo incluya el cluster y el id de la consulta\n",
    "\n",
    "Ruta_Datos_Procesados=\"../../Datos/Datos Procesados/\"\n",
    "\n",
    "if os.path.exists(Ruta_Datos_Procesados+'SECOP_I_II.parquet'):\n",
    "    os.remove(Ruta_Datos_Procesados+'SECOP_I_II.parquet')\n",
    "else:\n",
    "    print(\"The file does not exist\")\n",
    "\n",
    "Consulta_Cluster=Consulta[['ID','Cluster',]]\n",
    "Consulta_Cluster.to_parquet(Ruta_Datos_Procesados+'SECOP_I_II.parquet',engine='pyarrow')"
   ]
  }
 ],
 "metadata": {
  "kernelspec": {
   "display_name": "base",
   "language": "python",
   "name": "python3"
  },
  "language_info": {
   "codemirror_mode": {
    "name": "ipython",
    "version": 3
   },
   "file_extension": ".py",
   "mimetype": "text/x-python",
   "name": "python",
   "nbconvert_exporter": "python",
   "pygments_lexer": "ipython3",
   "version": "3.10.6"
  },
  "orig_nbformat": 4
 },
 "nbformat": 4,
 "nbformat_minor": 2
}
